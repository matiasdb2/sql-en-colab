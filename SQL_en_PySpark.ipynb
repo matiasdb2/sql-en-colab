{
  "nbformat": 4,
  "nbformat_minor": 0,
  "metadata": {
    "colab": {
      "provenance": []
    },
    "kernelspec": {
      "name": "python3",
      "display_name": "Python 3"
    },
    "language_info": {
      "name": "python"
    }
  },
  "cells": [
    {
      "cell_type": "markdown",
      "source": [
        "## Instalamos y actualizamos PySpark"
      ],
      "metadata": {
        "id": "gjnZV9tSP1Sg"
      }
    },
    {
      "cell_type": "code",
      "execution_count": 1,
      "metadata": {
        "id": "pkRuFuhsgrd1",
        "colab": {
          "base_uri": "https://localhost:8080/"
        },
        "outputId": "d28be5c2-788c-4753-88bf-46320cd0484e"
      },
      "outputs": [
        {
          "output_type": "stream",
          "name": "stdout",
          "text": [
            "Looking in indexes: https://pypi.org/simple, https://us-python.pkg.dev/colab-wheels/public/simple/\n",
            "Collecting pyspark\n",
            "  Downloading pyspark-3.4.0.tar.gz (310.8 MB)\n",
            "\u001b[2K     \u001b[90m━━━━━━━━━━━━━━━━━━━━━━━━━━━━━━━━━━━━━━━\u001b[0m \u001b[32m310.8/310.8 MB\u001b[0m \u001b[31m2.7 MB/s\u001b[0m eta \u001b[36m0:00:00\u001b[0m\n",
            "\u001b[?25h  Preparing metadata (setup.py) ... \u001b[?25l\u001b[?25hdone\n",
            "Requirement already satisfied: py4j==0.10.9.7 in /usr/local/lib/python3.10/dist-packages (from pyspark) (0.10.9.7)\n",
            "Building wheels for collected packages: pyspark\n",
            "  Building wheel for pyspark (setup.py) ... \u001b[?25l\u001b[?25hdone\n",
            "  Created wheel for pyspark: filename=pyspark-3.4.0-py2.py3-none-any.whl size=311317130 sha256=86aba5b81163b66dabefa632602821d5e049f58075a45ac50b58d455d6ecfba2\n",
            "  Stored in directory: /root/.cache/pip/wheels/7b/1b/4b/3363a1d04368e7ff0d408e57ff57966fcdf00583774e761327\n",
            "Successfully built pyspark\n",
            "Installing collected packages: pyspark\n",
            "Successfully installed pyspark-3.4.0\n"
          ]
        }
      ],
      "source": [
        "!pip install --upgrade pyspark"
      ]
    },
    {
      "cell_type": "markdown",
      "source": [
        "## Definimos el path del dataset de muestra de Colab"
      ],
      "metadata": {
        "id": "XzuCfGemP3qR"
      }
    },
    {
      "cell_type": "code",
      "source": [
        "train = '/content/sample_data/california_housing_test.csv'"
      ],
      "metadata": {
        "id": "1fpgpL6Zg7-W"
      },
      "execution_count": 2,
      "outputs": []
    },
    {
      "cell_type": "markdown",
      "source": [
        "## Importamos funciones de PySpark SQL"
      ],
      "metadata": {
        "id": "bMaFokkxP_CW"
      }
    },
    {
      "cell_type": "code",
      "source": [
        "from pyspark.sql.functions import *"
      ],
      "metadata": {
        "id": "bIz8ozgOhLHZ"
      },
      "execution_count": 3,
      "outputs": []
    },
    {
      "cell_type": "markdown",
      "source": [
        "## Creamos una SparkSession para trabajar con Apache Spark"
      ],
      "metadata": {
        "id": "wV6LCvGOQCBT"
      }
    },
    {
      "cell_type": "code",
      "source": [
        "from pyspark.sql import SparkSession\n",
        "\n",
        "spark = SparkSession.builder.master(\"local[*]\").getOrCreate()"
      ],
      "metadata": {
        "id": "95-DjicshCCv"
      },
      "execution_count": 4,
      "outputs": []
    },
    {
      "cell_type": "markdown",
      "source": [
        "## Definimos 'tren' como nuestro dataframe de prueba"
      ],
      "metadata": {
        "id": "IpaWVN5gQbXl"
      }
    },
    {
      "cell_type": "code",
      "source": [
        "tren = spark.read.csv(path=train,header=True)"
      ],
      "metadata": {
        "id": "6dJ1A7foikuv"
      },
      "execution_count": 5,
      "outputs": []
    },
    {
      "cell_type": "markdown",
      "source": [
        "## IMPORTANTE: Creamos una vista temporal para poder operar con SQL. Sin esta vista, las queries de SQL no van a funcionar."
      ],
      "metadata": {
        "id": "8s5WBZsHQ0Ru"
      }
    },
    {
      "cell_type": "code",
      "source": [
        "tren.createOrReplaceTempView(\"trencito\")"
      ],
      "metadata": {
        "id": "YSN85KXEiyaI"
      },
      "execution_count": 6,
      "outputs": []
    },
    {
      "cell_type": "markdown",
      "source": [
        "## En 'trenazo' van a estar alojadas las modificaciones hechas sobre 'trencito' mediante queries de SQL"
      ],
      "metadata": {
        "id": "FDsPlfT6RB4T"
      }
    },
    {
      "cell_type": "code",
      "source": [
        "trenazo = spark.sql( \\\n",
        "          'SELECT * \\\n",
        "           FROM trencito \\\n",
        "           LIMIT 3')"
      ],
      "metadata": {
        "id": "iw7CwXbWjTgS"
      },
      "execution_count": 7,
      "outputs": []
    },
    {
      "cell_type": "markdown",
      "source": [
        "## SQL Magic 🥵🥶🚀"
      ],
      "metadata": {
        "id": "xocLk5yYRIOh"
      }
    },
    {
      "cell_type": "code",
      "source": [
        "trenazo.show()"
      ],
      "metadata": {
        "colab": {
          "base_uri": "https://localhost:8080/"
        },
        "id": "K2thaEiBk3Z7",
        "outputId": "87c72507-fb04-4bae-aa3b-46b221493a5f"
      },
      "execution_count": 8,
      "outputs": [
        {
          "output_type": "stream",
          "name": "stdout",
          "text": [
            "+-----------+---------+------------------+-----------+--------------+-----------+----------+-------------+------------------+\n",
            "|  longitude| latitude|housing_median_age|total_rooms|total_bedrooms| population|households|median_income|median_house_value|\n",
            "+-----------+---------+------------------+-----------+--------------+-----------+----------+-------------+------------------+\n",
            "|-122.050000|37.370000|         27.000000|3885.000000|    661.000000|1537.000000|606.000000|     6.608500|     344700.000000|\n",
            "|-118.300000|34.260000|         43.000000|1510.000000|    310.000000| 809.000000|277.000000|     3.599000|     176500.000000|\n",
            "|-117.810000|33.780000|         27.000000|3589.000000|    507.000000|1484.000000|495.000000|     5.793400|     270500.000000|\n",
            "+-----------+---------+------------------+-----------+--------------+-----------+----------+-------------+------------------+\n",
            "\n"
          ]
        }
      ]
    }
  ]
}